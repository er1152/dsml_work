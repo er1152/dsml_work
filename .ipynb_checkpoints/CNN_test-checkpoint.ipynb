{
 "cells": [
  {
   "cell_type": "code",
   "execution_count": 3,
   "id": "cd497fa6",
   "metadata": {},
   "outputs": [],
   "source": [
    "import torch\n",
    "import torchvision\n",
    "import torchvision.transforms as transforms"
   ]
  },
  {
   "cell_type": "code",
   "execution_count": 4,
   "id": "fb7f4e5d",
   "metadata": {},
   "outputs": [
    {
     "name": "stdout",
     "output_type": "stream",
     "text": [
      "Files already downloaded and verified\n",
      "Files already downloaded and verified\n"
     ]
    }
   ],
   "source": [
    "transform = transforms.Compose(\n",
    "    [transforms.ToTensor(),\n",
    "     transforms.Normalize((0.5, 0.5, 0.5), (0.5, 0.5, 0.5))])\n",
    "\n",
    "trainset = torchvision.datasets.CIFAR10(root='./data', train=True,\n",
    "                                        download=True, transform=transform)\n",
    "trainloader = torch.utils.data.DataLoader(trainset, batch_size=4,\n",
    "                                          shuffle=True, num_workers=2)\n",
    "\n",
    "testset = torchvision.datasets.CIFAR10(root='./data', train=False,\n",
    "                                       download=True, transform=transform)\n",
    "testloader = torch.utils.data.DataLoader(testset, batch_size=4,\n",
    "                                         shuffle=False, num_workers=2)\n",
    "\n",
    "classes = ('plane', 'car', 'bird', 'cat',\n",
    "           'deer', 'dog', 'frog', 'horse', 'ship', 'truck')"
   ]
  },
  {
   "cell_type": "code",
   "execution_count": 10,
   "id": "77e71e6f",
   "metadata": {},
   "outputs": [
    {
     "data": {
      "image/png": "[encoded data removed]",
      "text/plain": [
       "<Figure size 640x480 with 1 Axes>"
      ]
     },
     "metadata": {},
     "output_type": "display_data"
    },
    {
     "name": "stdout",
     "output_type": "stream",
     "text": [
      "horse horse   cat truck\n"
     ]
    }
   ],
   "source": [
    "# １.画像の表示\n",
    "\n",
    "import matplotlib.pyplot as plt\n",
    "import numpy as np\n",
    "\n",
    "# 画像の表示関数\n",
    "\n",
    "\n",
    "def imshow(img):\n",
    "    img = img / 2 + 0.5     # 正規化を戻す\n",
    "    npimg = img.numpy()\n",
    "    plt.imshow(np.transpose(npimg, (1, 2, 0)))\n",
    "    plt.show()\n",
    "\n",
    "\n",
    "# 適当な訓練セットの画像を取得\n",
    "dataiter = iter(trainloader)\n",
    "images, labels = dataiter.next()\n",
    "\n",
    "# 画像の表示\n",
    "imshow(torchvision.utils.make_grid(images))\n",
    "# ラベルの表示\n",
    "print(' '.join('%5s' % classes[labels[j]] for j in range(4)))"
   ]
  },
  {
   "cell_type": "code",
   "execution_count": 6,
   "id": "66eb961f",
   "metadata": {},
   "outputs": [],
   "source": [
    "# 2.畳み込みニューラルネットワークの定義\n",
    "\n",
    "import torch.nn as nn\n",
    "import torch.nn.functional as F\n",
    "\n",
    "\n",
    "class Net(nn.Module):\n",
    "    def __init__(self):\n",
    "        super(Net, self).__init__()\n",
    "        self.conv1 = nn.Conv2d(3, 6, 5)# チャネル入力，出力，カーネルサイズ\n",
    "        self.pool = nn.MaxPool2d(2, 2)# カーネルサイズ, ストライド\n",
    "        self.conv2 = nn.Conv2d(6, 16, 5)\n",
    "        self.fc1 = nn.Linear(16 * 5 * 5, 120) # 入力サイズ, 出力サイズ\n",
    "        self.fc2 = nn.Linear(120, 84)\n",
    "        self.fc3 = nn.Linear(84, 10)\n",
    "\n",
    "    def forward(self, x):\n",
    "        x = self.pool(F.relu(self.conv1(x)))\n",
    "        x = self.pool(F.relu(self.conv2(x)))\n",
    "        x = x.view(-1, 16 * 5 * 5)\n",
    "        x = F.relu(self.fc1(x))\n",
    "        x = F.relu(self.fc2(x))\n",
    "        x = self.fc3(x)\n",
    "        return x\n",
    "\n",
    "net = Net()"
   ]
  },
  {
   "cell_type": "code",
   "execution_count": 7,
   "id": "18136d7b",
   "metadata": {},
   "outputs": [
    {
     "data": {
      "text/plain": [
       "Net(\n",
       "  (conv1): Conv2d(3, 6, kernel_size=(5, 5), stride=(1, 1))\n",
       "  (pool): MaxPool2d(kernel_size=2, stride=2, padding=0, dilation=1, ceil_mode=False)\n",
       "  (conv2): Conv2d(6, 16, kernel_size=(5, 5), stride=(1, 1))\n",
       "  (fc1): Linear(in_features=400, out_features=120, bias=True)\n",
       "  (fc2): Linear(in_features=120, out_features=84, bias=True)\n",
       "  (fc3): Linear(in_features=84, out_features=10, bias=True)\n",
       ")"
      ]
     },
     "execution_count": 7,
     "metadata": {},
     "output_type": "execute_result"
    }
   ],
   "source": [
    "#3.損失関数とオプティマイザの定義\n",
    "\n",
    "import torch.optim as optim\n",
    "\n",
    "criterion = nn.CrossEntropyLoss()\n",
    "optimizer = optim.SGD(net.parameters(), lr=0.001, momentum=0.9)\n",
    "\n",
    "device = torch.device('cuda:0' if torch.cuda.is_available() else 'cpu')\n",
    "net.to(device)"
   ]
  },
  {
   "cell_type": "code",
   "execution_count": 9,
   "id": "d11cfadb",
   "metadata": {},
   "outputs": [
    {
     "name": "stdout",
     "output_type": "stream",
     "text": [
      "NVIDIA GeForce GTX 1080 Ti\n"
     ]
    }
   ],
   "source": [
    "print(torch.cuda.get_device_name())"
   ]
  },
  {
   "cell_type": "code",
   "execution_count": 8,
   "id": "4826ef1f",
   "metadata": {},
   "outputs": [
    {
     "name": "stdout",
     "output_type": "stream",
     "text": [
      "[1,  2000] loss: 2.187\n",
      "[1,  4000] loss: 1.882\n",
      "[1,  6000] loss: 1.689\n",
      "[1,  8000] loss: 1.568\n",
      "[1, 10000] loss: 1.512\n",
      "[1, 12000] loss: 1.471\n",
      "[2,  2000] loss: 1.400\n",
      "[2,  4000] loss: 1.346\n",
      "[2,  6000] loss: 1.322\n",
      "[2,  8000] loss: 1.272\n",
      "[2, 10000] loss: 1.301\n",
      "[2, 12000] loss: 1.254\n",
      "[3,  2000] loss: 1.183\n",
      "[3,  4000] loss: 1.177\n",
      "[3,  6000] loss: 1.173\n",
      "[3,  8000] loss: 1.161\n",
      "[3, 10000] loss: 1.184\n",
      "[3, 12000] loss: 1.159\n",
      "[4,  2000] loss: 1.079\n",
      "[4,  4000] loss: 1.091\n",
      "[4,  6000] loss: 1.081\n",
      "[4,  8000] loss: 1.082\n",
      "[4, 10000] loss: 1.074\n",
      "[4, 12000] loss: 1.070\n",
      "[5,  2000] loss: 1.006\n",
      "[5,  4000] loss: 0.997\n",
      "[5,  6000] loss: 0.986\n",
      "[5,  8000] loss: 1.012\n",
      "[5, 10000] loss: 1.013\n",
      "[5, 12000] loss: 1.030\n",
      "[6,  2000] loss: 0.919\n",
      "[6,  4000] loss: 0.953\n",
      "[6,  6000] loss: 0.976\n",
      "[6,  8000] loss: 0.958\n",
      "[6, 10000] loss: 0.992\n",
      "[6, 12000] loss: 0.967\n",
      "[7,  2000] loss: 0.865\n",
      "[7,  4000] loss: 0.905\n",
      "[7,  6000] loss: 0.909\n",
      "[7,  8000] loss: 0.912\n",
      "[7, 10000] loss: 0.919\n",
      "[7, 12000] loss: 0.946\n",
      "[8,  2000] loss: 0.837\n",
      "[8,  4000] loss: 0.834\n",
      "[8,  6000] loss: 0.878\n",
      "[8,  8000] loss: 0.904\n",
      "[8, 10000] loss: 0.902\n",
      "[8, 12000] loss: 0.906\n",
      "[9,  2000] loss: 0.809\n",
      "[9,  4000] loss: 0.829\n",
      "[9,  6000] loss: 0.846\n",
      "[9,  8000] loss: 0.851\n",
      "[9, 10000] loss: 0.869\n",
      "[9, 12000] loss: 0.860\n",
      "[10,  2000] loss: 0.777\n",
      "[10,  4000] loss: 0.798\n",
      "[10,  6000] loss: 0.836\n",
      "[10,  8000] loss: 0.820\n",
      "[10, 10000] loss: 0.828\n",
      "[10, 12000] loss: 0.838\n",
      "Finished Training\n"
     ]
    }
   ],
   "source": [
    "#4.ネットワークの訓練\n",
    "\n",
    "for epoch in range(10):  # エポック数分ループを回します\n",
    "    running_loss = 0.0\n",
    "    for i, data in enumerate(trainloader, 0):\n",
    "        # データセットのデータを [inputs, labels]の形で取得\n",
    "        inputs, labels = data[0].to(device), data[1].to(device)\n",
    "\n",
    "        # パラメータの勾配をリセット\n",
    "        optimizer.zero_grad()\n",
    "\n",
    "        # 順伝搬＋逆伝搬＋パラメータ更新\n",
    "        outputs = net(inputs)\n",
    "        loss = criterion(outputs, labels)\n",
    "        loss.backward()\n",
    "        optimizer.step()\n",
    "\n",
    "        # 統計情報の表示\n",
    "        running_loss += loss.item()\n",
    "        if i % 2000 == 1999:    # 2,000ミニバッチにつき1度表示\n",
    "            print('[%d, %5d] loss: %.3f' %\n",
    "                  (epoch + 1, i + 1, running_loss / 2000))\n",
    "            running_loss = 0.0\n",
    "\n",
    "print('Finished Training')"
   ]
  },
  {
   "cell_type": "code",
   "execution_count": 11,
   "id": "dd8dace2",
   "metadata": {},
   "outputs": [],
   "source": [
    "PATH = './cifar_net10.pth'\n",
    "torch.save(net.state_dict(), PATH)"
   ]
  },
  {
   "cell_type": "code",
   "execution_count": 12,
   "id": "ed478012",
   "metadata": {},
   "outputs": [
    {
     "data": {
      "image/png": "[encoded data removed]",
      "text/plain": [
       "<Figure size 640x480 with 1 Axes>"
      ]
     },
     "metadata": {},
     "output_type": "display_data"
    },
    {
     "name": "stdout",
     "output_type": "stream",
     "text": [
      "GroundTruth:    cat  ship  ship plane\n"
     ]
    }
   ],
   "source": [
    "#5.テストデータでネットワークをテスト\n",
    "\n",
    "dataiter = iter(testloader)\n",
    "images, labels = dataiter.next()\n",
    "\n",
    "# 画像と正解ラベルの表示\n",
    "imshow(torchvision.utils.make_grid(images))\n",
    "print('GroundTruth: ', ' '.join('%5s' % classes[labels[j]] for j in range(4)))"
   ]
  },
  {
   "cell_type": "code",
   "execution_count": 13,
   "id": "bc052782",
   "metadata": {},
   "outputs": [],
   "source": [
    "outputs = net(images.to(device))"
   ]
  },
  {
   "cell_type": "code",
   "execution_count": 14,
   "id": "2bfd2cdd",
   "metadata": {},
   "outputs": [
    {
     "name": "stdout",
     "output_type": "stream",
     "text": [
      "Predicted:   ship  ship plane plane\n"
     ]
    }
   ],
   "source": [
    "_, predicted = torch.max(outputs, 1)\n",
    "\n",
    "print('Predicted: ', ' '.join('%5s' % classes[predicted[j]]\n",
    "                              for j in range(4)))"
   ]
  },
  {
   "cell_type": "code",
   "execution_count": 15,
   "id": "638b02cf",
   "metadata": {},
   "outputs": [
    {
     "name": "stdout",
     "output_type": "stream",
     "text": [
      "Accuracy of the network on the 10000 test images: 62 %\n"
     ]
    }
   ],
   "source": [
    "correct = 0\n",
    "total = 0\n",
    "with torch.no_grad():\n",
    "    for data in testloader:\n",
    "        images, labels = data[0].to(device), data[1].to(device)\n",
    "        outputs = net(images)\n",
    "        _, predicted = torch.max(outputs.data, 1)\n",
    "        total += labels.size(0)\n",
    "        correct += (predicted == labels).sum().item()\n",
    "\n",
    "print('Accuracy of the network on the 10000 test images: %d %%' % (\n",
    "    100 * correct / total))"
   ]
  },
  {
   "cell_type": "code",
   "execution_count": 16,
   "id": "244fceb3",
   "metadata": {},
   "outputs": [
    {
     "name": "stdout",
     "output_type": "stream",
     "text": [
      "Accuracy of plane : 78 %\n",
      "Accuracy of   car : 85 %\n",
      "Accuracy of  bird : 46 %\n",
      "Accuracy of   cat : 36 %\n",
      "Accuracy of  deer : 49 %\n",
      "Accuracy of   dog : 57 %\n",
      "Accuracy of  frog : 64 %\n",
      "Accuracy of horse : 65 %\n",
      "Accuracy of  ship : 67 %\n",
      "Accuracy of truck : 72 %\n"
     ]
    }
   ],
   "source": [
    "class_correct = list(0. for i in range(10))\n",
    "class_total = list(0. for i in range(10))\n",
    "with torch.no_grad():\n",
    "    for data in testloader:\n",
    "        images, labels = data[0].to(device), data[1].to(device)\n",
    "        outputs = net(images)\n",
    "        _, predicted = torch.max(outputs, 1)\n",
    "        c = (predicted == labels).squeeze()\n",
    "        for i in range(4):\n",
    "            label = labels[i]\n",
    "            class_correct[label] += c[i].item()\n",
    "            class_total[label] += 1\n",
    "\n",
    "\n",
    "for i in range(10):\n",
    "    print('Accuracy of %5s : %2d %%' % (\n",
    "        classes[i], 100 * class_correct[i] / class_total[i]))"
   ]
  },
  {
   "cell_type": "code",
   "execution_count": null,
   "id": "6676546c",
   "metadata": {},
   "outputs": [],
   "source": []
  }
 ],
 "metadata": {
  "kernelspec": {
   "display_name": "Python 3 (ipykernel)",
   "language": "python",
   "name": "python3"
  },
  "language_info": {
   "codemirror_mode": {
    "name": "ipython",
    "version": 3
   },
   "file_extension": ".py",
   "mimetype": "text/x-python",
   "name": "python",
   "nbconvert_exporter": "python",
   "pygments_lexer": "ipython3",
   "version": "3.9.12"
  }
 },
 "nbformat": 4,
 "nbformat_minor": 5
}
